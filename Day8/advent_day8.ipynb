{
 "cells": [
  {
   "cell_type": "code",
   "execution_count": 177,
   "metadata": {},
   "outputs": [],
   "source": [
    "import numpy as np\n",
    "with open('input.txt') as f_content:\n",
    "    fd = np.array(list(map(lambda x: list(x.split('\\n')[0]), f_content.readlines())),dtype=int)\n"
   ]
  },
  {
   "cell_type": "code",
   "execution_count": 178,
   "metadata": {},
   "outputs": [
    {
     "name": "stdout",
     "output_type": "stream",
     "text": [
      "1787\n"
     ]
    }
   ],
   "source": [
    "# PART 1\n",
    "def check_row_vis(row):\n",
    "    visibility = np.zeros(row.shape)\n",
    "    for i in range(1,row.shape[0]-1):\n",
    "        if row[i] > row[:i].max() or row[i] > row[i+1:].max():\n",
    "            visibility[i] = 1\n",
    "\n",
    "    return visibility\n",
    "\n",
    "def check_col_vis(col):\n",
    "    visibility = np.zeros(col.shape)\n",
    "    for i in range(1,col.shape[0]-1):\n",
    "        if col[i] > col[:i].max() or col[i] >col[i+1:].max():\n",
    "            visibility[i] = 1\n",
    "    \n",
    "    return visibility\n",
    "\n",
    "row_vis = np.vstack(list(map(check_row_vis,fd)))\n",
    "col_vis = np.transpose(np.vstack(list(map(check_row_vis,np.transpose(fd)))))\n",
    "total_vis = row_vis+col_vis\n",
    "total_vis[0,:] = 1\n",
    "total_vis[-1,:] = 1\n",
    "total_vis[:,0] = 1\n",
    "total_vis[:,-1] = 1\n",
    "print(np.sum(total_vis>0))"
   ]
  },
  {
   "cell_type": "code",
   "execution_count": 179,
   "metadata": {},
   "outputs": [
    {
     "name": "stdout",
     "output_type": "stream",
     "text": [
      "440640\n"
     ]
    }
   ],
   "source": [
    "# PART 2\n",
    "def check_row_range_vis(row):\n",
    "    ran = np.zeros(row.shape)\n",
    "    \n",
    "    for i in range(1,row.shape[0]-1):\n",
    "        height = row[i]\n",
    "        neighbours1 = np.flip(row[:i])\n",
    "        neighbours2 = row[i+1:]\n",
    "        \n",
    "        j = 0\n",
    "        while neighbours1[j] < height and j < neighbours1.shape[0] - 1:\n",
    "            j += 1\n",
    "        ran[i] = j+1\n",
    "\n",
    "        j = 0\n",
    "        while neighbours2[j] < height and j < neighbours2.shape[0] - 1:\n",
    "            j += 1\n",
    "        \n",
    "        ran[i] *= j+1\n",
    "\n",
    "\n",
    "    return ran\n",
    "\n",
    "def check_col_range_vis(col):\n",
    "    ran = np.zeros(col.shape)\n",
    "    for i in range(1,col.shape[0]-1):\n",
    "        height = col[i]\n",
    "        neighbours1 = np.flip(col[:i])\n",
    "        neighbours2 = col[i+1:]\n",
    "\n",
    "        j = 0\n",
    "        while neighbours1[j] < height and j < neighbours1.shape[0] - 1:\n",
    "            j += 1\n",
    "        ran[i] = j+1\n",
    "  \n",
    "        j = 0\n",
    "        while neighbours2[j] < height and j < neighbours2.shape[0] - 1:\n",
    "            j += 1\n",
    "        ran[i] *= j+1\n",
    "\n",
    "    return ran\n",
    "\n",
    "\n",
    "row_score = np.vstack(list(map(check_row_range_vis,fd)))\n",
    "col_score = np.transpose(np.vstack(list(map(check_col_range_vis,np.transpose(fd)))))\n",
    "\n",
    "print(int(np.max(np.multiply(row_score,col_score))))"
   ]
  }
 ],
 "metadata": {
  "kernelspec": {
   "display_name": "Python 3.9.2 64-bit",
   "language": "python",
   "name": "python3"
  },
  "language_info": {
   "codemirror_mode": {
    "name": "ipython",
    "version": 3
   },
   "file_extension": ".py",
   "mimetype": "text/x-python",
   "name": "python",
   "nbconvert_exporter": "python",
   "pygments_lexer": "ipython3",
   "version": "3.9.2"
  },
  "orig_nbformat": 4,
  "vscode": {
   "interpreter": {
    "hash": "50cad90f2f273938ceabd83189106b19f0fe603f9ecc8bddf15d51c3f9654c30"
   }
  }
 },
 "nbformat": 4,
 "nbformat_minor": 2
}
