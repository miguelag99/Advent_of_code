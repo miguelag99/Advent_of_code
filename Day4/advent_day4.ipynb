{
 "cells": [
  {
   "cell_type": "code",
   "execution_count": 31,
   "metadata": {},
   "outputs": [
    {
     "data": {
      "text/plain": [
       "['18-32', '17-33']"
      ]
     },
     "execution_count": 31,
     "metadata": {},
     "output_type": "execute_result"
    }
   ],
   "source": [
    "# PART 1 \n",
    "fd = open('input.txt').readlines()\n",
    "fd = list(map(lambda x: x.split('\\n')[0].split(','), fd))"
   ]
  },
  {
   "cell_type": "code",
   "execution_count": 55,
   "metadata": {},
   "outputs": [],
   "source": [
    "def check_if_containing(range_pair):\n",
    "    range1 = list(map(int,range_pair[0].split('-')))\n",
    "    range2 = list(map(int,range_pair[1].split('-')))\n",
    "\n",
    "    range1 = set(list(range(range1[0],range1[1]+1)))\n",
    "    range2 = set(list(range(range2[0],range2[1]+1)))\n",
    "\n",
    "    if len(range1.intersection(range2)) == len(range1) or len(range1.intersection(range2)) == len(range2):\n",
    "        return 1\n",
    "    else:\n",
    "        return 0"
   ]
  },
  {
   "cell_type": "code",
   "execution_count": 56,
   "metadata": {},
   "outputs": [
    {
     "data": {
      "text/plain": [
       "580"
      ]
     },
     "execution_count": 56,
     "metadata": {},
     "output_type": "execute_result"
    }
   ],
   "source": [
    "sum(map(check_if_containing,fd))\n"
   ]
  },
  {
   "cell_type": "code",
   "execution_count": 57,
   "metadata": {},
   "outputs": [],
   "source": [
    "# PART 2\n",
    "\n",
    "def check_if_overlaps(range_pair):\n",
    "    range1 = list(map(int,range_pair[0].split('-')))\n",
    "    range2 = list(map(int,range_pair[1].split('-')))\n",
    "\n",
    "    range1 = set(list(range(range1[0],range1[1]+1)))\n",
    "    range2 = set(list(range(range2[0],range2[1]+1)))\n",
    "\n",
    "    if range1.intersection(range2):\n",
    "        return 1\n",
    "    else:\n",
    "        return 0   "
   ]
  },
  {
   "cell_type": "code",
   "execution_count": 58,
   "metadata": {},
   "outputs": [
    {
     "data": {
      "text/plain": [
       "895"
      ]
     },
     "execution_count": 58,
     "metadata": {},
     "output_type": "execute_result"
    }
   ],
   "source": [
    "sum(map(check_if_overlaps,fd))"
   ]
  }
 ],
 "metadata": {
  "kernelspec": {
   "display_name": "Python 3.9.2 64-bit",
   "language": "python",
   "name": "python3"
  },
  "language_info": {
   "codemirror_mode": {
    "name": "ipython",
    "version": 3
   },
   "file_extension": ".py",
   "mimetype": "text/x-python",
   "name": "python",
   "nbconvert_exporter": "python",
   "pygments_lexer": "ipython3",
   "version": "3.9.2"
  },
  "orig_nbformat": 4,
  "vscode": {
   "interpreter": {
    "hash": "50cad90f2f273938ceabd83189106b19f0fe603f9ecc8bddf15d51c3f9654c30"
   }
  }
 },
 "nbformat": 4,
 "nbformat_minor": 2
}
