{
 "cells": [
  {
   "cell_type": "markdown",
   "metadata": {},
   "source": [
    "# Part 1"
   ]
  },
  {
   "cell_type": "code",
   "execution_count": 11,
   "metadata": {},
   "outputs": [],
   "source": [
    "import re\n",
    "import time"
   ]
  },
  {
   "cell_type": "code",
   "execution_count": 12,
   "metadata": {},
   "outputs": [],
   "source": [
    "def get_digits(values, expression = r'\\d'):\n",
    "    numb = re.findall(expression, values)\n",
    "    if len(numb) == 2:\n",
    "        return int(''.join(numb))\n",
    "    else:\n",
    "        return int(''.join([numb[0],numb[-1]]))\n"
   ]
  },
  {
   "cell_type": "code",
   "execution_count": 13,
   "metadata": {},
   "outputs": [
    {
     "name": "stdout",
     "output_type": "stream",
     "text": [
      "54697\n"
     ]
    }
   ],
   "source": [
    "with open('input.txt','r') as f:\n",
    "    data = list(map(lambda x: x.strip(),f.readlines()))\n",
    "\n",
    "all_numbers = list(map(get_digits, data))\n",
    "print(sum(all_numbers))"
   ]
  },
  {
   "cell_type": "markdown",
   "metadata": {},
   "source": [
    "# Part 2"
   ]
  },
  {
   "cell_type": "code",
   "execution_count": 14,
   "metadata": {},
   "outputs": [],
   "source": [
    "str_digits = ['one','two','three','four','five','six','seven','eight','nine']\n",
    "\n",
    "def get_digits2(values, expression = r'\\d'):\n",
    "    translated_list = list(values)\n",
    "    for i in range(len(str_digits)):\n",
    "        for element in re.finditer(str_digits[i],values):\n",
    "            translated_list[element.start()+1] = str(i+1)\n",
    "\n",
    "    values = ''.join(translated_list)\n",
    "    \n",
    "    numb = re.findall(expression, values)\n",
    "    if len(numb) == 2:\n",
    "        return int(''.join(numb))\n",
    "    else:\n",
    "        return int(''.join([numb[0],numb[-1]]))\n"
   ]
  },
  {
   "cell_type": "code",
   "execution_count": 15,
   "metadata": {},
   "outputs": [
    {
     "name": "stdout",
     "output_type": "stream",
     "text": [
      "54885\n"
     ]
    }
   ],
   "source": [
    "with open('input.txt','r') as f:\n",
    "    data = list(map(lambda x: x.strip(),f.readlines()))\n",
    "\n",
    "all_numbers = list(map(get_digits2, data))\n",
    "print(sum(all_numbers))"
   ]
  }
 ],
 "metadata": {
  "kernelspec": {
   "display_name": "Python 3",
   "language": "python",
   "name": "python3"
  },
  "language_info": {
   "codemirror_mode": {
    "name": "ipython",
    "version": 3
   },
   "file_extension": ".py",
   "mimetype": "text/x-python",
   "name": "python",
   "nbconvert_exporter": "python",
   "pygments_lexer": "ipython3",
   "version": "3.9.2"
  }
 },
 "nbformat": 4,
 "nbformat_minor": 2
}
