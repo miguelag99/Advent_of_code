{
 "cells": [
  {
   "cell_type": "markdown",
   "metadata": {},
   "source": [
    "# Part 1"
   ]
  },
  {
   "cell_type": "code",
   "execution_count": 129,
   "metadata": {},
   "outputs": [],
   "source": [
    "with open('input.txt','r') as fd:\n",
    "    data = list(map(lambda x: x.strip(), fd.readlines()))\n",
    "\n",
    "CUBE_CONFIG = {\n",
    "    'red': 12,\n",
    "    'green': 13,\n",
    "    'blue': 14\n",
    "}\n"
   ]
  },
  {
   "cell_type": "code",
   "execution_count": 130,
   "metadata": {},
   "outputs": [],
   "source": [
    "def get_correct_ids(game_data):\n",
    "    game_info, game_experiments = game_data.split(': ')\n",
    "    exp_data = game_experiments.split('; ')\n",
    "\n",
    "    if all(list(map(check_data_results, exp_data))):\n",
    "        return int(game_info.split(' ')[1])\n",
    "\n",
    "    return 0\n",
    "\n",
    "def check_data_results(data):\n",
    "    values = data.split(', ')\n",
    "    \n",
    "    for value in values:\n",
    "        n, color = value.split(' ')\n",
    "        if int(n) > CUBE_CONFIG[color]:\n",
    "            return False\n",
    "        \n",
    "    return True "
   ]
  },
  {
   "cell_type": "code",
   "execution_count": 131,
   "metadata": {},
   "outputs": [
    {
     "data": {
      "text/plain": [
       "2771"
      ]
     },
     "execution_count": 131,
     "metadata": {},
     "output_type": "execute_result"
    }
   ],
   "source": [
    "sum(list(map(get_correct_ids, data)))"
   ]
  },
  {
   "cell_type": "markdown",
   "metadata": {},
   "source": [
    "# Part 2"
   ]
  },
  {
   "cell_type": "code",
   "execution_count": 132,
   "metadata": {},
   "outputs": [],
   "source": [
    "with open('input.txt','r') as fd:\n",
    "    data = list(map(lambda x: x.strip(), fd.readlines()))"
   ]
  },
  {
   "cell_type": "code",
   "execution_count": 133,
   "metadata": {},
   "outputs": [],
   "source": [
    "def get_power(game_data):\n",
    "    game_info, game_experiments = game_data.split(': ')\n",
    "    exp_data = list(map(lambda x: x.split(', '), game_experiments.split('; ')))\n",
    "\n",
    "    min_values = {\n",
    "        'red': 0,\n",
    "        'green': 0,\n",
    "        'blue': 0 \n",
    "    }\n",
    "\n",
    "    for exp in exp_data:\n",
    "        for val in list(map(lambda x: x.split(' '),exp)):\n",
    "            if int(val[0]) > min_values[val[1]]:\n",
    "                min_values[val[1]] = int(val[0])\n",
    "\n",
    "    return min_values['red'] * min_values['green'] * min_values['blue']\n"
   ]
  },
  {
   "cell_type": "code",
   "execution_count": 134,
   "metadata": {},
   "outputs": [
    {
     "data": {
      "text/plain": [
       "70924"
      ]
     },
     "execution_count": 134,
     "metadata": {},
     "output_type": "execute_result"
    }
   ],
   "source": [
    "sum(list(map(get_power, data)))"
   ]
  }
 ],
 "metadata": {
  "kernelspec": {
   "display_name": "Python 3",
   "language": "python",
   "name": "python3"
  },
  "language_info": {
   "codemirror_mode": {
    "name": "ipython",
    "version": 3
   },
   "file_extension": ".py",
   "mimetype": "text/x-python",
   "name": "python",
   "nbconvert_exporter": "python",
   "pygments_lexer": "ipython3",
   "version": "3.9.2"
  }
 },
 "nbformat": 4,
 "nbformat_minor": 2
}
