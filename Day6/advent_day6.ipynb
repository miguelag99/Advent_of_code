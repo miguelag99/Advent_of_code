{
 "cells": [
  {
   "cell_type": "code",
   "execution_count": 27,
   "metadata": {},
   "outputs": [
    {
     "name": "stdout",
     "output_type": "stream",
     "text": [
      "Found marker after processing 1175 symbols\n"
     ]
    }
   ],
   "source": [
    "# PART 1\n",
    "f_content = open('input.txt')\n",
    "fd = list(list(map(lambda x: x.split('\\n')[0], f_content.readlines()))[0])\n",
    "f_content.close()\n",
    "\n",
    "marker_size = 4\n",
    "idx = 0\n",
    "found = False\n",
    "\n",
    "# First 4 symbols\n",
    "n_processed = marker_size\n",
    "data_slice = fd[:n_processed] \n",
    "\n",
    "\n",
    "while idx < len(fd)-marker_size+1 and found != True:\n",
    "    data_slice = fd[idx:idx+marker_size]\n",
    "    # print((data_slice))\n",
    "\n",
    "    if len(set(data_slice)) == marker_size:\n",
    "        print(f'Found marker after processing {n_processed} symbols')\n",
    "        found = True\n",
    "\n",
    "    n_processed += 1\n",
    "    idx += 1\n",
    "    \n"
   ]
  },
  {
   "cell_type": "code",
   "execution_count": 28,
   "metadata": {},
   "outputs": [
    {
     "name": "stdout",
     "output_type": "stream",
     "text": [
      "Found msg after processing 3217 symbols\n"
     ]
    }
   ],
   "source": [
    "msg_size = 14\n",
    "idx = 0\n",
    "found = False\n",
    "\n",
    "# First 14 symbols\n",
    "n_processed = msg_size\n",
    "data_slice = fd[:n_processed] \n",
    "\n",
    "\n",
    "while idx < len(fd)-msg_size+1 and found != True:\n",
    "    data_slice = fd[idx:idx+msg_size]\n",
    "    # print((data_slice))\n",
    "\n",
    "    if len(set(data_slice)) == msg_size:\n",
    "        print(f'Found msg after processing {n_processed} symbols')\n",
    "        found = True\n",
    "\n",
    "    n_processed += 1\n",
    "    idx += 1"
   ]
  }
 ],
 "metadata": {
  "kernelspec": {
   "display_name": "Python 3.9.2 64-bit",
   "language": "python",
   "name": "python3"
  },
  "language_info": {
   "codemirror_mode": {
    "name": "ipython",
    "version": 3
   },
   "file_extension": ".py",
   "mimetype": "text/x-python",
   "name": "python",
   "nbconvert_exporter": "python",
   "pygments_lexer": "ipython3",
   "version": "3.9.2"
  },
  "orig_nbformat": 4,
  "vscode": {
   "interpreter": {
    "hash": "50cad90f2f273938ceabd83189106b19f0fe603f9ecc8bddf15d51c3f9654c30"
   }
  }
 },
 "nbformat": 4,
 "nbformat_minor": 2
}
