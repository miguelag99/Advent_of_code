{
 "cells": [
  {
   "cell_type": "code",
   "execution_count": 245,
   "metadata": {},
   "outputs": [],
   "source": [
    "# PART 1\n",
    "import numpy as np\n",
    "with open('input.txt') as f_content:\n",
    "    fd = list(map(lambda x: x.split('\\n')[0], f_content.readlines()))\n",
    "\n",
    "fd.append('End')\n"
   ]
  },
  {
   "cell_type": "code",
   "execution_count": 246,
   "metadata": {},
   "outputs": [
    {
     "name": "stdout",
     "output_type": "stream",
     "text": [
      "Total size of / is 49192532\n",
      "1490523\n"
     ]
    }
   ],
   "source": [
    "\n",
    "curr_dir = '/'\n",
    "tot_files = []\n",
    "tot_dir = [curr_dir]\n",
    "tot_siz = []\n",
    "\n",
    "\n",
    "for line,idx in zip(fd, range(len(fd))):\n",
    "    \n",
    "    if line[0] == '$':\n",
    "        command = line.split(' ')[1]\n",
    "\n",
    "        if command == 'cd':\n",
    "            new_dir = line.split(' ')[2]\n",
    "            \n",
    "            if new_dir != '..' and new_dir != '/':\n",
    "                curr_dir += new_dir + '/'\n",
    "                tot_dir.append(curr_dir)\n",
    "            elif new_dir == '..':\n",
    "                curr_dir = \"/\".join(curr_dir.split('/')[:-2]) + '/'\n",
    "\n",
    "        elif command == 'ls':\n",
    "\n",
    "            j = 1\n",
    "            dir_siz = 0\n",
    "            tot_siz.append(dir_siz)\n",
    "\n",
    "            while fd[idx+j].split(' ')[0] != '$' and idx+j < len(fd)-1:\n",
    "                if fd[idx+j].split(' ')[0] != 'dir':\n",
    "                    f_name = fd[idx+j].split(' ')[1]\n",
    "                    f_size = int(fd[idx+j].split(' ')[0])\n",
    "\n",
    "                    tot_siz[-1] += f_size\n",
    "                j += 1\n",
    "            \n",
    "\n",
    "acc_size = 0\n",
    "total_dir_size = []\n",
    "\n",
    "\n",
    "for dir, siz in zip(tot_dir,tot_siz):\n",
    "\n",
    "    a = list(map(lambda x,y: x.find(y)+1, tot_dir, [dir]*len(tot_dir)))\n",
    "    \n",
    "    dir_total_siz = sum(list(map(lambda x,y: y if x else 0, a, tot_siz)))\n",
    "    total_dir_size.append(dir_total_siz)\n",
    "\n",
    "    if dir_total_siz < 100000:\n",
    "        acc_size += dir_total_siz\n",
    "\n",
    "    if dir == '/':\n",
    "        # Print root total size\n",
    "        print(f'Total size of / is {dir_total_siz}')\n",
    "        filesystem_size = dir_total_siz\n",
    "\n",
    "print(acc_size)\n"
   ]
  },
  {
   "cell_type": "code",
   "execution_count": 247,
   "metadata": {},
   "outputs": [
    {
     "name": "stdout",
     "output_type": "stream",
     "text": [
      "12390492\n"
     ]
    }
   ],
   "source": [
    "\n",
    "req_space = abs((70000000 - filesystem_size) - 30000000)\n",
    "\n",
    "total_dir_size = np.array(total_dir_size)\n",
    "\n",
    "print(min(total_dir_size[total_dir_size>req_space]))\n"
   ]
  }
 ],
 "metadata": {
  "kernelspec": {
   "display_name": "Python 3.9.2 64-bit",
   "language": "python",
   "name": "python3"
  },
  "language_info": {
   "codemirror_mode": {
    "name": "ipython",
    "version": 3
   },
   "file_extension": ".py",
   "mimetype": "text/x-python",
   "name": "python",
   "nbconvert_exporter": "python",
   "pygments_lexer": "ipython3",
   "version": "3.9.2"
  },
  "orig_nbformat": 4,
  "vscode": {
   "interpreter": {
    "hash": "50cad90f2f273938ceabd83189106b19f0fe603f9ecc8bddf15d51c3f9654c30"
   }
  }
 },
 "nbformat": 4,
 "nbformat_minor": 2
}
