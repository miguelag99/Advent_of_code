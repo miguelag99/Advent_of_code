{
 "cells": [
  {
   "cell_type": "code",
   "execution_count": 93,
   "metadata": {},
   "outputs": [],
   "source": [
    "# PART 1\n",
    "import pandas as pd\n",
    "\n",
    "priority_dict = {'a': 1, 'b': 2, 'c': 3, 'd': 4, 'e': 5, 'f': 6, 'g': 7, 'h': 8, 'i': 9, 'j': 10, 'k': 11, 'l': 12, 'm': 13, 'n': 14, 'o': 15, 'p': 16, 'q': 17, 'r': 18, 's': 19, 't': 20, 'u': 21, 'v': 22, 'w': 23, 'x': 24, 'y': 25, 'z': 26}\n",
    "priority_dict_upper = {'A': 27, 'B': 28, 'C': 29, 'D': 30, 'E': 31, 'F': 32, 'G': 33, 'H': 34, 'I': 35, 'J': 36, 'K': 37, 'L': 38, 'M': 39, 'N': 40, 'O': 41, 'P': 42, 'Q': 43, 'R': 44, 'S': 45, 'T': 46, 'U': 47, 'V': 48, 'W': 49, 'X': 50, 'Y': 51, 'Z': 52}\n",
    "\n",
    "fd = open('input.txt').readlines()\n",
    "fd = list(map(lambda x: x.split('\\n')[0], fd))\n"
   ]
  },
  {
   "cell_type": "code",
   "execution_count": 94,
   "metadata": {},
   "outputs": [],
   "source": [
    "\n",
    "def get_duplicated(rucksack):\n",
    "\n",
    "    compartment_len = int(len(list(rucksack))/2)\n",
    "\n",
    "    half1 = pd.DataFrame(list(rucksack[:compartment_len]))\n",
    "    half2 = pd.DataFrame(list(rucksack[compartment_len:]))\n",
    "    \n",
    "    matches = half1.merge(half2, how='inner', left_on=0, right_on=0)\n",
    "    \n",
    "    if matches.iloc[0].values[0].isupper():\n",
    "        return priority_dict_upper[matches.iloc[0].values[0]]\n",
    "    else:\n",
    "        return priority_dict[matches.iloc[0].values[0]]\n"
   ]
  },
  {
   "cell_type": "code",
   "execution_count": 95,
   "metadata": {},
   "outputs": [
    {
     "data": {
      "text/plain": [
       "8240"
      ]
     },
     "execution_count": 95,
     "metadata": {},
     "output_type": "execute_result"
    }
   ],
   "source": [
    "total_priority = map(get_duplicated, fd)\n",
    "sum(total_priority)\n"
   ]
  },
  {
   "cell_type": "code",
   "execution_count": 96,
   "metadata": {},
   "outputs": [],
   "source": [
    "# PART 2\n",
    "\n",
    "def get_group_badge(group_rucksack):\n",
    "\n",
    "    bag1 = pd.DataFrame(list(group_rucksack[0]))\n",
    "    bag2 = pd.DataFrame(list(group_rucksack[1]))\n",
    "    bag3 = pd.DataFrame(list(group_rucksack[2]))\n",
    "\n",
    "    matches = bag1.merge(bag2, how='inner', left_on=0, right_on=0)\n",
    "    matches = matches.merge(bag3, how='inner', left_on=0, right_on=0)\n",
    "\n",
    "    if matches.iloc[0].values[0].isupper():\n",
    "        return priority_dict_upper[matches.iloc[0].values[0]]\n",
    "    else:\n",
    "        return priority_dict[matches.iloc[0].values[0]]\n",
    "\n",
    "\n"
   ]
  },
  {
   "cell_type": "code",
   "execution_count": 99,
   "metadata": {},
   "outputs": [
    {
     "data": {
      "text/plain": [
       "2587"
      ]
     },
     "execution_count": 99,
     "metadata": {},
     "output_type": "execute_result"
    }
   ],
   "source": [
    "n_groups = int(len(fd)/3)\n",
    "a = []\n",
    "for i in range(n_groups):\n",
    "    a.append(fd[i*3:(i+1)*3])\n",
    "\n",
    "total_group_priority = map(get_group_badge, a)\n",
    "sum(total_group_priority)"
   ]
  }
 ],
 "metadata": {
  "kernelspec": {
   "display_name": "Python 3.9.2 64-bit",
   "language": "python",
   "name": "python3"
  },
  "language_info": {
   "codemirror_mode": {
    "name": "ipython",
    "version": 3
   },
   "file_extension": ".py",
   "mimetype": "text/x-python",
   "name": "python",
   "nbconvert_exporter": "python",
   "pygments_lexer": "ipython3",
   "version": "3.9.2"
  },
  "orig_nbformat": 4,
  "vscode": {
   "interpreter": {
    "hash": "50cad90f2f273938ceabd83189106b19f0fe603f9ecc8bddf15d51c3f9654c30"
   }
  }
 },
 "nbformat": 4,
 "nbformat_minor": 2
}
