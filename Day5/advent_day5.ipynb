{
 "cells": [
  {
   "cell_type": "code",
   "execution_count": 2,
   "metadata": {},
   "outputs": [
    {
     "name": "stdout",
     "output_type": "stream",
     "text": [
      "['S', 'V', 'F', 'D', 'L', 'G', 'L', 'W', 'V']\n"
     ]
    }
   ],
   "source": [
    "# PART 1 \n",
    "\n",
    "f_content = open('input.txt')\n",
    "fd = list(map(lambda x: x.split('\\n')[0], f_content.readlines()))\n",
    "f_content.close()\n",
    "\n",
    "n_stacks = len(fd[fd.index('')-1].split('   '))\n",
    "stacks = [[] for i in range(n_stacks)]\n",
    "\n",
    "\n",
    "for row in reversed(fd[:fd.index('')-1]):\n",
    "    row = row[1::4]\n",
    "    for i in range(n_stacks):\n",
    "        if row[i] != ' ':\n",
    "            stacks[i].append(row[i])\n",
    "    \n",
    "\n",
    "for move in fd[fd.index('')+1:]:\n",
    "\n",
    "    n_boxes = move.split(' ')[1]\n",
    "    origin = move.split(' ')[3]\n",
    "    dest = move.split(' ')[5]\n",
    "    \n",
    "    for i in range(int(n_boxes)):\n",
    "        stacks[int(dest)-1].append(stacks[int(origin)-1].pop())\n",
    "\n",
    "res = [row[-1] for row in stacks]\n",
    "print(res)"
   ]
  },
  {
   "cell_type": "code",
   "execution_count": 8,
   "metadata": {},
   "outputs": [
    {
     "name": "stdout",
     "output_type": "stream",
     "text": [
      "['D', 'C', 'V', 'T', 'C', 'V', 'P', 'C', 'L']\n"
     ]
    }
   ],
   "source": [
    "# PART 2\n",
    "stacks = [[] for i in range(n_stacks)]\n",
    "\n",
    "for row in reversed(fd[:fd.index('')-1]):\n",
    "    row = row[1::4]\n",
    "    for i in range(n_stacks):\n",
    "        if row[i] != ' ':\n",
    "            stacks[i].append(row[i])\n",
    "\n",
    "for move in fd[fd.index('')+1:]:\n",
    "\n",
    "    n_boxes = move.split(' ')[1]\n",
    "    origin = move.split(' ')[3]\n",
    "    dest = move.split(' ')[5]\n",
    "    \n",
    "    moved_blocks = stacks[int(origin)-1][-int(n_boxes):]\n",
    "\n",
    "    stacks[int(origin)-1] = stacks[int(origin)-1][:-int(n_boxes)]\n",
    "\n",
    "    stacks[int(dest)-1].extend(moved_blocks)\n",
    "\n",
    "\n",
    "res = [row[-1] for row in stacks]\n",
    "print(res)"
   ]
  }
 ],
 "metadata": {
  "kernelspec": {
   "display_name": "Python 3.9.2 64-bit",
   "language": "python",
   "name": "python3"
  },
  "language_info": {
   "codemirror_mode": {
    "name": "ipython",
    "version": 3
   },
   "file_extension": ".py",
   "mimetype": "text/x-python",
   "name": "python",
   "nbconvert_exporter": "python",
   "pygments_lexer": "ipython3",
   "version": "3.9.2"
  },
  "orig_nbformat": 4,
  "vscode": {
   "interpreter": {
    "hash": "50cad90f2f273938ceabd83189106b19f0fe603f9ecc8bddf15d51c3f9654c30"
   }
  }
 },
 "nbformat": 4,
 "nbformat_minor": 2
}
